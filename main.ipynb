{
 "cells": [
  {
   "cell_type": "markdown",
   "metadata": {},
   "source": [
    "This holds the main flow of the application "
   ]
  },
  {
   "cell_type": "code",
   "execution_count": null,
   "metadata": {},
   "outputs": [],
   "source": [
    "# includes all main imports from sub-directories\n",
    "\n",
    "import os \n",
    "import sys \n",
    "import sqlite3\n",
    "from dotenv import load_dotenv  # from python-dotenv\n",
    "import numpy as np\n",
    "import pandas as pd\n",
    "from sklearn.model_selection import train_test_split\n",
    "from sklearn.metrics import accuracy_score, classification_report\n",
    "from sentence_transformers import SentenceTransformer\n",
    "from openai import OpenAI\n",
    "from transformers import BertConfig, BertModel\n",
    "\n",
    "client = OpenAI(api_key=os.getenv(\"GPT_API_KEY\"))\n",
    "\n",
    "project_dir = os.getcwd() \n",
    "print(project_dir)\n",
    "\n",
    "message_dir = \"data/processing\"\n",
    "sys.path.append(message_dir)\n"
   ]
  },
  {
   "cell_type": "code",
   "execution_count": null,
   "metadata": {},
   "outputs": [],
   "source": [
    "bert_model = SentenceTransformer('sentence-transformers/all-MiniLM-L6-v1')\n",
    "\n",
    "input = [] \n",
    "input.append(\"This is a test input\") \n",
    "embeddings = bert_model.encode(input)\n",
    "print(embeddings) "
   ]
  },
  {
   "cell_type": "code",
   "execution_count": null,
   "metadata": {},
   "outputs": [],
   "source": [
    "large_embedding_model = \"text-embedding-3-large\" # dim-size :  1536  \n",
    "small_embedding_model = \"text-embedding-3-small\" # dim-size : 3072 \n",
    "bert_model_name = 'sentence-transformers/all-MiniLM-L6-v1' # dim-size 384\n",
    "bert_model = SentenceTransformer(bert_model_name) \n",
    "\n",
    "current_model = bert_model_name\n",
    "current_dim = 384\n",
    "\n",
    "# response = client.embeddings.create(\n",
    "    # input=test_input,\n",
    "   #  model=current_model\n",
    "# )\n",
    "#print(response.data[0].embedding)\n"
   ]
  },
  {
   "cell_type": "code",
   "execution_count": null,
   "metadata": {},
   "outputs": [],
   "source": [
    "import os\n",
    "os.chdir(os.getcwd())\n",
    "print(os.listdir('.'))"
   ]
  },
  {
   "cell_type": "code",
   "execution_count": null,
   "metadata": {},
   "outputs": [],
   "source": [
    "import file\n",
    "\n",
    "subject_phone = \"\"\n",
    "subject_name = \"\" \n",
    "messages_per_subject = 100\n",
    "sentences_per_embedding = 5 # 5 sentences per embedding\n",
    "# data format : (subject_phone, time, message)\n",
    "\n",
    "# file.addToTextFile(subject_phone, messages_per_subject)\n",
    "\n",
    "batch_data = file.getTextFile(sentences_per_embedding)\n",
    "\n",
    "for row in batch_data: \n",
    "  print(row) \n",
    "\n",
    "# conn.close() closes the connection to the database "
   ]
  },
  {
   "cell_type": "code",
   "execution_count": null,
   "metadata": {},
   "outputs": [],
   "source": [
    "os.chdir(project_dir) # changes back to project directory after data batching"
   ]
  },
  {
   "cell_type": "code",
   "execution_count": null,
   "metadata": {},
   "outputs": [],
   "source": [
    "import faiss \n",
    "\n",
    "k = 5 # number of clusters to return \n",
    "\n",
    "index_one = faiss.IndexFlatL2(current_dim) # per subject \n",
    "global_index = faiss.IndexFlatL2(current_dim) # includes all of the clusters \n",
    "\n",
    "index.is_trained \n",
    "\n",
    "xq = \"this is the query vector\"\n",
    "D, I = index.search(xq, k) # this searches the vector in the database "
   ]
  }
 ],
 "metadata": {
  "kernelspec": {
   "display_name": "venv",
   "language": "python",
   "name": "python3"
  },
  "language_info": {
   "codemirror_mode": {
    "name": "ipython",
    "version": 3
   },
   "file_extension": ".py",
   "mimetype": "text/x-python",
   "name": "python",
   "nbconvert_exporter": "python",
   "pygments_lexer": "ipython3",
   "version": "3.13.5"
  }
 },
 "nbformat": 4,
 "nbformat_minor": 2
}
