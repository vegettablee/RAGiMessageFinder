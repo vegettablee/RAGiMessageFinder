{
 "cells": [
  {
   "cell_type": "markdown",
   "metadata": {},
   "source": [
    "This holds the main flow of the application "
   ]
  },
  {
   "cell_type": "code",
   "execution_count": 1,
   "metadata": {},
   "outputs": [
    {
     "name": "stdout",
     "output_type": "stream",
     "text": [
      "/Users/prestonrank/RAGMessages\n"
     ]
    }
   ],
   "source": [
    "# includes all main imports from sub-directories\n",
    "\n",
    "import os \n",
    "import sys \n",
    "import sqlite3\n",
    "from dotenv import load_dotenv  # from python-dotenv\n",
    "import numpy as np\n",
    "import pandas as pd\n",
    "from sklearn.model_selection import train_test_split\n",
    "from sklearn.metrics import accuracy_score, classification_report\n",
    "from sentence_transformers import SentenceTransformer\n",
    "from openai import OpenAI\n",
    "from transformers import BertConfig, BertModel\n",
    "\n",
    "client = OpenAI(api_key=os.getenv(\"GPT_API_KEY\"))\n",
    "\n",
    "project_dir = os.getcwd() \n",
    "print(project_dir)\n",
    "\n",
    "message_dir = \"data/processing\"\n",
    "sys.path.append(message_dir)\n"
   ]
  },
  {
   "cell_type": "code",
   "execution_count": null,
   "metadata": {},
   "outputs": [],
   "source": [
    "bert_model = SentenceTransformer('sentence-transformers/all-MiniLM-L6-v1')\n",
    "\n",
    "input = [] \n",
    "input.append(\"This is a test input\") \n",
    "embeddings = bert_model.encode(input)\n",
    "print(embeddings) "
   ]
  },
  {
   "cell_type": "code",
   "execution_count": null,
   "metadata": {},
   "outputs": [],
   "source": [
    "large_embedding_model = \"text-embedding-3-large\" # dim-size :  1536  \n",
    "small_embedding_model = \"text-embedding-3-small\" # dim-size : 3072 \n",
    "bert_model_name = 'sentence-transformers/all-MiniLM-L6-v1' # dim-size 384\n",
    "bert_model = SentenceTransformer(bert_model_name) \n",
    "\n",
    "current_model = bert_model_name\n",
    "current_dim = 384\n",
    "\n",
    "# response = client.embeddings.create(\n",
    "    # input=test_input,\n",
    "   #  model=current_model\n",
    "# )\n",
    "#print(response.data[0].embedding)\n"
   ]
  },
  {
   "cell_type": "code",
   "execution_count": null,
   "metadata": {},
   "outputs": [],
   "source": [
    "import os\n",
    "os.chdir(os.getcwd())\n",
    "print(os.listdir('.'))"
   ]
  },
  {
   "cell_type": "code",
   "execution_count": 3,
   "metadata": {},
   "outputs": [
    {
     "name": "stdout",
     "output_type": "stream",
     "text": [
      "['[THEM] Wth 😭', '[ME] where are you employed', '[ME] no way, i’ll see him post on ig time to time but it’s been forever since i’ve seen him', '[ME] damn he’s your coworker??? ', '[ME] okay but i do not know a danny b 😭']\n",
      "['[THEM] Nah it’s okay, I found another pan 🤞', '[THEM] I can come grab it tho or smth', '[THEM] I was gonna say no rush, but I’m baking more tmr 💔', '[THEM] I left my cookie tray 😭']\n",
      "['[THEM] She asked about it', '[THEM] I think so', '[ME] she going fs?', '[THEM] No worries I sent her the info yesterday🤞']\n",
      "['[ME] i forgot to text hannah or how you spell her name', '[THEM] Yes', '[THEM] THANK YOUU😝😝', '[THEM] Have you seen it? ']\n",
      "['[THEM] 💀💀', '[THEM] I’m about to watch sinners', '[THEM] No wayy, how’s that', '[THEM] Bout to be living out a suitcase ']\n",
      "['[THEM] LMAO', '[THEM] More like boxes everywhere 🥲 moving took half the day I swear', '[THEM] Isn’t it fire', '[THEM] It’s actually so odd, you’ll get an apartment tour eventually 😭 I’ll send a pic later ']\n",
      "['[THEM] If they hire me, pray this interview goes well ', '[THEM] 14760 Preston Rd?', '[ME] what store is it', '[ME] you finna be a barista']\n",
      "['[THEM] I’m interviewing at Starbucks on Monday 😛 but it’s one further from campus', '[THEM] Lock on twin 😤 this is the summer of growth 💪🏼', '[THEM] IDK MAN', '[THEM] How busy’s your schedule looking?  ']\n",
      "['[THEM] All good, I’m always around if you need to chat about anything🙂\\u200d↕️good to know you weren’t trying to cut me off or smth tho😭', '[THEM] I feel like I started putting in less effort because I wasn’t totally sure if you were still interested in being friends? 😭 but I definitely do care about you as a friend and we should DEFINETLY grab food or coffee and chit chat ', '[THEM] I’ll for sure t try to be better about responding in a reasonable amount of time 🥲 is there anything else I can do?', '[THEM] Hey! I’m so sorry, that’s definitely not my intention things have been hectic with job apps and packing to move(not trying to make excuses) but I appreciate you being upfront about it:) ']\n",
      "['[ME] i had to match the slang from the first message', '[ME] how punctual should i be?', '[ME] ok ok', '[THEM] Did he roundhouse kick you or smth 😭']\n",
      "['[THEM] YEOWCH, ice that ho', '[ME] my roommate elbowed me on accident', '[THEM] Huhh how? 💀', '[ME] ITS SO BAD']\n",
      "['[ME] i couldn’t think of a way to help you escape sorry 😭', '[THEM] They actually just mentioned you 😭 wondering if you were coming ', '[THEM] It’s a good bit of people tho ', '[THEM] Nahh']\n",
      "['[THEM] Just got here, nothing crazy ', '[THEM] 🍅 ', '[THEM] Boo', '[THEM] Stupid game ']\n",
      "['[THEM] He asked to move it cause it was supposed to rain 😒', '[THEM] Bro', '[THEM] Yup', '[THEM] 😭not according to them you weren’t ']\n",
      "['[THEM] NAH', '[THEM] Of course you think so 😒', '[ME] he usually goes on hour long walks with a weighted vest for cardio', '[ME] me and my uncle smoked and walked in a park with weighted vests']\n",
      "['[ME] what if he finds you again 🫣', '[ME] these type of interactions only happen in the library ☠️', '[ME] he sounds like a character', '[ME] i lowkey wanna meet him now']\n",
      "['[ME] this is your battle', '[ME] say you got an emergency', '[ME] oh hell naw', '[ME] fight back']\n",
      "['[ME] i didn’t realize what ppl just casually say', '[ME] woah this is crazy', '[ME] i just got a new scarf too', '[ME] me too']\n",
      "['[ME] check outside', '[THEM] I’m at the door', '[THEM] Wiat I see it', '[THEM] Well I’m parked in front of 6641 so yall are around here']\n",
      "['[THEM] Which one is it ', '[THEM] I got crazy goldfish memory ', '[THEM] Omw😝', '[THEM] Let me grab some stuff and I’ll pull up, a few of the girls are crashing at Paolas 😭']\n"
     ]
    }
   ],
   "source": [
    "import file\n",
    "\n",
    "subject_phone = \"9365539666\"\n",
    "subject_name = \"Paris\" \n",
    "messages_per_subject = 100\n",
    "sentences_per_embedding = 5 # 5 sentences per embedding\n",
    "# data format : (subject_phone, time, message)\n",
    "\n",
    "# file.addToTextFile(subject_phone, messages_per_subject)\n",
    "\n",
    "batch_data = file.getTextFile(sentences_per_embedding)\n",
    "\n",
    "for row in batch_data: \n",
    "  print(row) \n",
    "\n",
    "# conn.close() closes the connection to the database "
   ]
  },
  {
   "cell_type": "code",
   "execution_count": null,
   "metadata": {},
   "outputs": [],
   "source": [
    "os.chdir(project_dir) # changes back to project directory after data batching"
   ]
  },
  {
   "cell_type": "code",
   "execution_count": null,
   "metadata": {},
   "outputs": [],
   "source": [
    "import faiss \n",
    "\n",
    "k = 5 # number of clusters to return \n",
    "\n",
    "index_one = faiss.IndexFlatL2(current_dim) # per subject \n",
    "global_index = faiss.IndexFlatL2(current_dim) # includes all of the clusters \n",
    "\n",
    "index.is_trained \n",
    "\n",
    "xq = \"this is the query vector\"\n",
    "D, I = index.search(xq, k) # this searches the vector in the database "
   ]
  }
 ],
 "metadata": {
  "kernelspec": {
   "display_name": "venv",
   "language": "python",
   "name": "python3"
  },
  "language_info": {
   "codemirror_mode": {
    "name": "ipython",
    "version": 3
   },
   "file_extension": ".py",
   "mimetype": "text/x-python",
   "name": "python",
   "nbconvert_exporter": "python",
   "pygments_lexer": "ipython3",
   "version": "3.13.5"
  }
 },
 "nbformat": 4,
 "nbformat_minor": 2
}
